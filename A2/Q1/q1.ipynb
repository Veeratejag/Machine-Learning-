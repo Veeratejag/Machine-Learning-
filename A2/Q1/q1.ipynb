{
 "cells": [
  {
   "cell_type": "code",
   "execution_count": 3,
   "metadata": {},
   "outputs": [],
   "source": [
    "import numpy as np,pandas as pd,matplotlib.pyplot as plt,seaborn as sns\n",
    "import re\n",
    "from wordcloud import WordCloud\n",
    "from collections import defaultdict\n",
    "from sklearn.metrics import confusion_matrix  \n",
    "from nltk.stem import PorterStemmer\n",
    "from nltk.corpus import stopwords\n",
    "from nltk.tokenize import word_tokenize\n",
    "import string\n",
    "\n"
   ]
  },
  {
   "cell_type": "code",
   "execution_count": 21,
   "metadata": {},
   "outputs": [],
   "source": [
    "\n",
    "classes = {'Positive':0,'Negative':1,'Neutral':2}\n",
    "P = {0:'Positive',1:'Negative',2:'Neutral'}\n",
    "d=defaultdict(lambda:np.ones(3))\n",
    "probability = {'Positive':0,'Negative':0,'Neutral':0}\n",
    "\n",
    "def unigram(text:str):\n",
    "    return text.split()\n",
    "def train(X,Y,split_fn):\n",
    "    \n",
    "    for i in range(len(X)):\n",
    "        tweet = split_fn(X[i])\n",
    "        # print(tweet[2])\n",
    "        for word in tweet:\n",
    "            d[word][classes[Y[i]]]+=1\n",
    "        probability[Y[i]]+=1\n",
    "    total = sum(probability.values())\n",
    "\n",
    "    for i in probability:\n",
    "        probability[i]/=total\n",
    "    den = sum(d.values())\n",
    "    return d,probability\n",
    "\n",
    "def theta(l,den):\n",
    "    num = d[l]\n",
    "    return num/den\n",
    "\n",
    "def predict(tweet,probability,den,split_fn):\n",
    "    \n",
    "    prob = np.log([probability['Positive'],probability['Negative'],probability['Neutral']])\n",
    "    for word in split_fn(tweet):\n",
    "        prob += np.log(theta(word,den))\n",
    "    if np.max(prob)==prob[0]:\n",
    "        return \"Positive\"\n",
    "    elif np.max(prob)==prob[1]:\n",
    "        return \"Negative\"\n",
    "    else:\n",
    "        return \"Neutral\"\n",
    "    \n",
    "def accuracy(X_test,Y_test,probability,split_fn):\n",
    "    pred = [];ans=0\n",
    "    den = sum(d.values())\n",
    "    for i in range(len(X_test)):\n",
    "        y  = predict(X_test[i],probability,den,split_fn)\n",
    "        pred.append(y)\n",
    "        ans+=(y==Y_test[i])\n",
    "    return pred,ans/len(Y_test)\n",
    "\n",
    "test_data = pd.read_csv('Corona_validation.csv')\n",
    "train_data = pd.read_csv('Corona_train.csv')\n",
    "\n",
    "X_train = train_data['CoronaTweet'];Y_train = train_data['Sentiment']\n",
    "X_validation = test_data['CoronaTweet'];Y_validation = test_data['Sentiment']\n",
    "\n",
    "def draw_matrix(confusion_matrix):\n",
    "    class_labels = [\"Positive\", \"Negative\", \"Neutral\"]\n",
    "\n",
    "    plt.figure(figsize=(6,6))\n",
    "    sns.set(font_scale=1)\n",
    "    sns.heatmap(confusion_matrix, annot=True, cmap=\"Blues\", fmt='g',\n",
    "                xticklabels=class_labels, yticklabels=class_labels,\n",
    "                linewidths=.5, square=True, cbar=False)\n",
    "\n",
    "    plt.xlabel('Predicted',color='red')\n",
    "    plt.ylabel('Actual',color='red')\n",
    "    plt.title('Confusion Matrix',color='darkblue')\n",
    "\n",
    "    plt.show()\n"
   ]
  },
  {
   "cell_type": "code",
   "execution_count": 22,
   "metadata": {},
   "outputs": [],
   "source": [
    "d,probability = train(X_train,Y_train,unigram)\n"
   ]
  },
  {
   "cell_type": "code",
   "execution_count": 23,
   "metadata": {},
   "outputs": [],
   "source": [
    "pred,acc = accuracy(X_validation,Y_validation,probability,unigram)"
   ]
  },
  {
   "cell_type": "code",
   "execution_count": 24,
   "metadata": {},
   "outputs": [
    {
     "data": {
      "text/plain": [
       "0.6680838141512299"
      ]
     },
     "execution_count": 24,
     "metadata": {},
     "output_type": "execute_result"
    }
   ],
   "source": [
    "acc"
   ]
  },
  {
   "cell_type": "code",
   "execution_count": 4,
   "metadata": {},
   "outputs": [
    {
     "data": {
      "text/plain": [
       "defaultdict(<function __main__.<lambda>()>, {})"
      ]
     },
     "execution_count": 4,
     "metadata": {},
     "output_type": "execute_result"
    }
   ],
   "source": [
    "classes = {'Positive':0,'Negative':1,'Neutral':2}\n",
    "data = pd.read_csv('Corona_train.csv',delimiter=\",\")\n",
    "d=defaultdict(lambda:np.ones(3))\n",
    "data.values\n",
    "d"
   ]
  },
  {
   "cell_type": "code",
   "execution_count": 5,
   "metadata": {},
   "outputs": [
    {
     "name": "stdout",
     "output_type": "stream",
     "text": [
      "{'Positive': 16602, 'Negative': 14166, 'Neutral': 7096}\n"
     ]
    }
   ],
   "source": [
    "probability = {'Positive':0,'Negative':0,'Neutral':0}\n",
    "for tweet in data.values:\n",
    "    tweet[2] = tweet[2].split()\n",
    "    for word in tweet[2]:\n",
    "        d[word][classes[tweet[1]]]+=1\n",
    "    probability[tweet[1]]+=1\n",
    "\n",
    "\n",
    "print(probability)\n",
    "total = sum(probability.values())\n",
    "\n",
    "for i in probability:\n",
    "    probability[i]/=total\n",
    "\n"
   ]
  },
  {
   "cell_type": "code",
   "execution_count": 6,
   "metadata": {},
   "outputs": [],
   "source": [
    "den = sum(d.values())\n",
    "def theta(l):\n",
    "    num = d[l]\n",
    "    return num/den\n",
    "\n",
    "def predict(tweet):\n",
    "    prob = np.log([probability['Positive'],probability['Negative'],probability['Neutral']])\n",
    "    for word in tweet.split():\n",
    "        prob += np.log(theta(word))\n",
    "    if np.max(prob)==prob[0]:\n",
    "        return \"Positive\"\n",
    "    elif np.max(prob)==prob[1]:\n",
    "        return \"Negative\"\n",
    "    else:\n",
    "        return \"Neutral\"\n",
    "\n",
    "def accuracy(tweets,labels):\n",
    "    pred = [];ans=0\n",
    "    for i in range(len(tweets)):\n",
    "        x  = predict(tweets[i])\n",
    "        pred.append(x)\n",
    "        ans+=(x==labels[i])\n",
    "    return pred,ans/len(labels)"
   ]
  },
  {
   "cell_type": "code",
   "execution_count": null,
   "metadata": {},
   "outputs": [],
   "source": [
    "\n",
    "pos = defaultdict(lambda:0)\n",
    "neg = defaultdict(lambda:0)\n",
    "neu = defaultdict(lambda:0)\n",
    "for k in d:\n",
    "    if d[k][0]>0:pos[k]+=int(d[k][0])\n",
    "    if d[k][1]>0:neg[k]+=int(d[k][1])\n",
    "    if d[k][2]>0:neu[k]+=int(d[k][2]) \n",
    "\n",
    "    \n",
    "class1 = WordCloud(\n",
    "    background_color='white',\n",
    "    max_words=2000\n",
    ")\n",
    "class1.generate_from_frequencies(pos)\n",
    "class2 = WordCloud(\n",
    "    background_color='white',\n",
    "    max_words=2000\n",
    ")\n",
    "class2.generate_from_frequencies(neg)\n",
    "class3  = WordCloud(\n",
    "    background_color='white',\n",
    "    max_words=2000\n",
    ")\n",
    "class3.generate_from_frequencies(neu)"
   ]
  },
  {
   "cell_type": "code",
   "execution_count": null,
   "metadata": {},
   "outputs": [],
   "source": [
    "plt.imshow(class1, interpolation='bilinear')\n",
    "plt.axis('off')\n",
    "plt.show()"
   ]
  },
  {
   "cell_type": "code",
   "execution_count": null,
   "metadata": {},
   "outputs": [],
   "source": [
    "plt.imshow(class2, interpolation='bilinear')\n",
    "plt.axis('off')\n",
    "plt.show()"
   ]
  },
  {
   "cell_type": "code",
   "execution_count": null,
   "metadata": {},
   "outputs": [],
   "source": [
    "plt.imshow(class3, interpolation='bilinear')\n",
    "plt.axis('off')\n",
    "plt.show()"
   ]
  },
  {
   "cell_type": "code",
   "execution_count": 10,
   "metadata": {},
   "outputs": [],
   "source": [
    "\n",
    "def draw_matrix(confusion_matrix):\n",
    "    class_labels = [\"Positive\", \"Negative\", \"Neutral\"]\n",
    "\n",
    "    plt.figure(figsize=(6,6))\n",
    "    sns.set(font_scale=1)\n",
    "    sns.heatmap(confusion_matrix, annot=True, cmap=\"Blues\", fmt='g',\n",
    "                xticklabels=class_labels, yticklabels=class_labels,\n",
    "                linewidths=.5, square=True, cbar=False)\n",
    "\n",
    "    plt.xlabel('Predicted',color='red')\n",
    "    plt.ylabel('Actual',color='red')\n",
    "    plt.title('Confusion Matrix',color='darkblue')\n",
    "\n",
    "    plt.show()\n"
   ]
  },
  {
   "cell_type": "code",
   "execution_count": 7,
   "metadata": {},
   "outputs": [
    {
     "data": {
      "text/html": [
       "<div>\n",
       "<style scoped>\n",
       "    .dataframe tbody tr th:only-of-type {\n",
       "        vertical-align: middle;\n",
       "    }\n",
       "\n",
       "    .dataframe tbody tr th {\n",
       "        vertical-align: top;\n",
       "    }\n",
       "\n",
       "    .dataframe thead th {\n",
       "        text-align: right;\n",
       "    }\n",
       "</style>\n",
       "<table border=\"1\" class=\"dataframe\">\n",
       "  <thead>\n",
       "    <tr style=\"text-align: right;\">\n",
       "      <th></th>\n",
       "      <th>ID</th>\n",
       "      <th>Sentiment</th>\n",
       "      <th>CoronaTweet</th>\n",
       "    </tr>\n",
       "  </thead>\n",
       "  <tbody>\n",
       "    <tr>\n",
       "      <th>0</th>\n",
       "      <td>7184</td>\n",
       "      <td>Negative</td>\n",
       "      <td>I reflected on my own consumer behaviour last ...</td>\n",
       "    </tr>\n",
       "    <tr>\n",
       "      <th>1</th>\n",
       "      <td>36363</td>\n",
       "      <td>Negative</td>\n",
       "      <td>I know everyone is getting stir crazy but befo...</td>\n",
       "    </tr>\n",
       "    <tr>\n",
       "      <th>2</th>\n",
       "      <td>10423</td>\n",
       "      <td>Negative</td>\n",
       "      <td>I haven t seen gas prices this low since I fir...</td>\n",
       "    </tr>\n",
       "    <tr>\n",
       "      <th>3</th>\n",
       "      <td>6409</td>\n",
       "      <td>Neutral</td>\n",
       "      <td>Only batmeat left on the supermarket shelves\\r...</td>\n",
       "    </tr>\n",
       "    <tr>\n",
       "      <th>4</th>\n",
       "      <td>7015</td>\n",
       "      <td>Neutral</td>\n",
       "      <td>Along with health workers, we need to apprecia...</td>\n",
       "    </tr>\n",
       "    <tr>\n",
       "      <th>...</th>\n",
       "      <td>...</td>\n",
       "      <td>...</td>\n",
       "      <td>...</td>\n",
       "    </tr>\n",
       "    <tr>\n",
       "      <th>3288</th>\n",
       "      <td>13685</td>\n",
       "      <td>Neutral</td>\n",
       "      <td>#day6 of #selfisolating but had to run quick e...</td>\n",
       "    </tr>\n",
       "    <tr>\n",
       "      <th>3289</th>\n",
       "      <td>17905</td>\n",
       "      <td>Positive</td>\n",
       "      <td>@Tesco do you think during the covid-19 pandem...</td>\n",
       "    </tr>\n",
       "    <tr>\n",
       "      <th>3290</th>\n",
       "      <td>40331</td>\n",
       "      <td>Neutral</td>\n",
       "      <td>Key insights into the effect of COVID - 19 on ...</td>\n",
       "    </tr>\n",
       "    <tr>\n",
       "      <th>3291</th>\n",
       "      <td>1495</td>\n",
       "      <td>Neutral</td>\n",
       "      <td>We scored a haul at the grocery store tonight!...</td>\n",
       "    </tr>\n",
       "    <tr>\n",
       "      <th>3292</th>\n",
       "      <td>3190</td>\n",
       "      <td>Positive</td>\n",
       "      <td>Is it morally justifiable for businesses to ra...</td>\n",
       "    </tr>\n",
       "  </tbody>\n",
       "</table>\n",
       "<p>3293 rows × 3 columns</p>\n",
       "</div>"
      ],
      "text/plain": [
       "         ID Sentiment                                        CoronaTweet\n",
       "0      7184  Negative  I reflected on my own consumer behaviour last ...\n",
       "1     36363  Negative  I know everyone is getting stir crazy but befo...\n",
       "2     10423  Negative  I haven t seen gas prices this low since I fir...\n",
       "3      6409   Neutral  Only batmeat left on the supermarket shelves\\r...\n",
       "4      7015   Neutral  Along with health workers, we need to apprecia...\n",
       "...     ...       ...                                                ...\n",
       "3288  13685   Neutral  #day6 of #selfisolating but had to run quick e...\n",
       "3289  17905  Positive  @Tesco do you think during the covid-19 pandem...\n",
       "3290  40331   Neutral  Key insights into the effect of COVID - 19 on ...\n",
       "3291   1495   Neutral  We scored a haul at the grocery store tonight!...\n",
       "3292   3190  Positive  Is it morally justifiable for businesses to ra...\n",
       "\n",
       "[3293 rows x 3 columns]"
      ]
     },
     "execution_count": 7,
     "metadata": {},
     "output_type": "execute_result"
    }
   ],
   "source": [
    "test_data = pd.read_csv('Corona_validation.csv')\n",
    "test_data"
   ]
  },
  {
   "cell_type": "code",
   "execution_count": 8,
   "metadata": {},
   "outputs": [
    {
     "data": {
      "text/plain": [
       "0.6680838141512299"
      ]
     },
     "execution_count": 8,
     "metadata": {},
     "output_type": "execute_result"
    }
   ],
   "source": [
    "\n",
    "pred,acc=accuracy(test_data['CoronaTweet'],test_data['Sentiment'])\n",
    "acc"
   ]
  },
  {
   "cell_type": "code",
   "execution_count": 11,
   "metadata": {},
   "outputs": [
    {
     "data": {
      "image/png": "[encoded data removed]",
      "text/plain": [
       "<Figure size 432x432 with 1 Axes>"
      ]
     },
     "metadata": {
      "needs_background": "light"
     },
     "output_type": "display_data"
    }
   ],
   "source": [
    "conf = confusion_matrix(pred,test_data['Sentiment'],labels=[\"Positive\",\"Negative\",\"Neutral\"])\n",
    "draw_matrix(conf)"
   ]
  },
  {
   "cell_type": "code",
   "execution_count": null,
   "metadata": {},
   "outputs": [],
   "source": [
    "import random\n",
    "cls = ['Positive','Negative','Neutral']\n",
    "def random_assign(tweets,labels):\n",
    "    pred = [random.choice(cls) for tweet in tweets]\n",
    "    return [confusion_matrix(labels,pred,labels=cls),np.mean(pred==labels)]\n",
    "\n",
    "conf,acc = random_assign(test_data['CoronaTweet'],test_data['Sentiment'])\n",
    "print(acc)\n",
    "draw_matrix(conf)"
   ]
  },
  {
   "cell_type": "code",
   "execution_count": null,
   "metadata": {},
   "outputs": [],
   "source": [
    "def pred_pos(tweets,labels):\n",
    "    pred = ['Positive']*len(tweets)\n",
    "    return [confusion_matrix(labels,pred,labels=cls),np.mean(pred==labels)]\n",
    "\n",
    "conf,acc=pred_pos(test_data['CoronaTweet'],test_data['Sentiment'])\n",
    "print(acc)\n",
    "draw_matrix(conf)"
   ]
  },
  {
   "cell_type": "code",
   "execution_count": null,
   "metadata": {},
   "outputs": [],
   "source": [
    "path = 'Domain_Adaptation/Twitter_train_{}.csv'\n",
    "destin = 'domain/Twitter_train_{}.csv'\n",
    "def stem(data,dest):\n",
    "    stemmer = PorterStemmer()\n",
    "    stop_words = set(stopwords.words('english'))\n",
    "    X = [word_tokenize(re.sub('[{}]'.format(string.punctuation), ' ', tweet)) for tweet in data['Tweet']]\n",
    "    with open(dest,\"w\", encoding='utf-8') as f:\n",
    "        f.write(\"ID,Sentiment,Tweet\\n\")\n",
    "    for i in range(len(X)):\n",
    "        X[i] = \" \".join([stemmer.stem(word) for word in X[i] if word.lower() not in stop_words])\n",
    "        with open(dest,\"a\", encoding='utf-8') as f:\n",
    "            f.write(str(data['ID'][i])+\",\"+data['Sentiment'][i]+',\"'+X[i]+'\"\\n')\n",
    "    return X\n",
    "# for x in [1,2,5,10,25,50,100]:\n",
    "#     data = pd.read_csv(path.format(x))\n",
    "\n",
    "#     dest = destin.format(x)\n",
    "\n",
    "    \n",
    "#     stem(data)\n",
    "data = pd.read_csv('Domain_Adaptation/Twitter_validation.csv')\n",
    "dest = 'domain/Twitter_validation.csv'\n",
    "stem(data,dest)"
   ]
  },
  {
   "cell_type": "code",
   "execution_count": null,
   "metadata": {},
   "outputs": [],
   "source": [
    "data = pd.read_csv('train_stem.csv')\n",
    "data"
   ]
  },
  {
   "cell_type": "code",
   "execution_count": null,
   "metadata": {},
   "outputs": [],
   "source": [
    "def unigram(text:str):\n",
    "    text = text.split()\n",
    "    return text\n",
    "def bigram(text:str):\n",
    "    text = text.split()\n",
    "    # bigrams = []\n",
    "    n=len(text)\n",
    "    for i in range(n-1):\n",
    "        text.append((text[i]+\" \"+text[i+1]))\n",
    "    return text\n",
    "def trigram(text:str):\n",
    "    text = text.split()\n",
    "    # trigrams = []\n",
    "    n=len(text)\n",
    "    for i in range(n-1):\n",
    "        text.append((text[i]+\" \"+text[i+1]))\n",
    "    for i in range(n-2):\n",
    "        text.append((text[i]+\" \"+text[i+1]+\" \"+text[i+2]))\n",
    "    return text"
   ]
  },
  {
   "cell_type": "code",
   "execution_count": null,
   "metadata": {},
   "outputs": [],
   "source": [
    "data = pd.read_csv('train_stem.csv')\n",
    "\n",
    "data"
   ]
  },
  {
   "cell_type": "code",
   "execution_count": null,
   "metadata": {},
   "outputs": [],
   "source": [
    "split_fn = bigram\n",
    "probability = {'Positive':0,'Negative':0,'Neutral':0}\n",
    "classes = {'Positive':0,'Negative':1,'Neutral':2}\n",
    "d = defaultdict(lambda:np.ones(3))\n",
    "\n",
    "for tweet in data.values:\n",
    "    tweet[2] = split_fn(tweet[2])\n",
    "    for word in tweet[2]:\n",
    "        word = word.lower()\n",
    "        d[word][classes[tweet[1]]]+=1\n",
    "    probability[tweet[1]]+=1\n",
    "\n",
    "print(probability)\n",
    "total = sum(probability.values())\n",
    "\n",
    "for i in probability:\n",
    "    probability[i]/=total\n"
   ]
  },
  {
   "cell_type": "code",
   "execution_count": null,
   "metadata": {},
   "outputs": [],
   "source": [
    "len(d)\n",
    "ans = [0,0,0]\n",
    "for i in d:\n",
    "    ans[0]+=1 if d[i][0]!=0 else 0\n",
    "    ans[1]+=1 if d[i][1]!=0 else 0\n",
    "    ans[2]+=1 if d[i][2]!=0 else 0\n",
    "ans"
   ]
  },
  {
   "cell_type": "code",
   "execution_count": null,
   "metadata": {},
   "outputs": [],
   "source": [
    "den = sum(d.values())\n",
    "def theta(l):\n",
    "    num = d[l]\n",
    "    return num/den\n",
    "def predict(tweet,probability,split_fn):\n",
    "    prob = np.log([probability['Positive'],probability['Negative'],probability['Neutral']])\n",
    "    for word in split_fn(tweet):\n",
    "        # word = word.lower()\n",
    "        prob += np.log(theta(word))\n",
    "\n",
    "    if np.max(prob)==prob[0]:\n",
    "        return \"Positive\"\n",
    "    elif np.max(prob)==prob[1]:\n",
    "        return \"Negative\"\n",
    "    else:\n",
    "        return \"Neutral\"\n",
    "\n",
    "def accuracy(tweets,labels):\n",
    "    pred = [];ans=0\n",
    "    for i in range(len(tweets)):\n",
    "        x  = predict(tweets[i],probability,split_fn=split_fn)\n",
    "        pred.append(x)\n",
    "        ans+=(x==labels[i])\n",
    "    return pred,ans/len(labels)"
   ]
  },
  {
   "cell_type": "code",
   "execution_count": null,
   "metadata": {},
   "outputs": [],
   "source": [
    "test_data = pd.read_csv('valid_stem.csv')"
   ]
  },
  {
   "cell_type": "code",
   "execution_count": null,
   "metadata": {},
   "outputs": [],
   "source": [
    "pred,acc = accuracy(data['CoronaTweet'],data['Sentiment'])\n",
    "acc"
   ]
  },
  {
   "cell_type": "code",
   "execution_count": null,
   "metadata": {},
   "outputs": [],
   "source": [
    "confusion_matrix(pred,data['Sentiment'],labels=[\"Positive\",\"Negative\",\"Neutral\"])"
   ]
  },
  {
   "cell_type": "code",
   "execution_count": null,
   "metadata": {},
   "outputs": [],
   "source": [
    "path = 'domain/Twitter_train_{}.csv'"
   ]
  },
  {
   "cell_type": "code",
   "execution_count": null,
   "metadata": {},
   "outputs": [],
   "source": [
    "domain_test = pd.read_csv('domain/Twitter_validation.csv')"
   ]
  },
  {
   "cell_type": "code",
   "execution_count": null,
   "metadata": {},
   "outputs": [],
   "source": [
    "for x in [1,2,5,10,25,50,100]:\n",
    "    print(x)\n",
    "    domain_data = pd.read_csv(path.format(x))\n",
    "    split_fn = bigram\n",
    "    probability = {'Positive':0,'Negative':0,'Neutral':0}\n",
    "    classes = {'Positive':0,'Negative':1,'Neutral':2}\n",
    "    d = defaultdict(lambda:np.ones(3))\n",
    "\n",
    "    for tweet in data.values:\n",
    "        tweet[2] = split_fn(tweet[2])\n",
    "        for word in tweet[2]:\n",
    "            word = word.lower()\n",
    "            d[word][classes[tweet[1]]]+=1\n",
    "        probability[tweet[1]]+=1\n",
    "    for tweet in domain_data.values:\n",
    "        tweet[2] = split_fn(str(tweet[2]))\n",
    "        for word in tweet[2]:\n",
    "            word = word.lower()\n",
    "            d[word][classes[tweet[1]]]+=1\n",
    "        probability[tweet[1]]+=1\n",
    "    print(probability)\n",
    "    total = sum(probability.values())\n",
    "\n",
    "    for i in probability:\n",
    "        probability[i]/=total\n",
    "    den = sum(d.values())\n",
    "    def theta(l):\n",
    "        num = d[l]\n",
    "        return num/den\n",
    "    def predict(tweet,probability,split_fn):\n",
    "        prob = np.log([probability['Positive'],probability['Negative'],probability['Neutral']])\n",
    "        for word in split_fn(tweet):\n",
    "            # word = word.lower()\n",
    "            prob += np.log(theta(word))\n",
    "\n",
    "        if np.max(prob)==prob[0]:\n",
    "            return \"Positive\"\n",
    "        elif np.max(prob)==prob[1]:\n",
    "            return \"Negative\"\n",
    "        else:\n",
    "            return \"Neutral\"\n",
    "\n",
    "    def accuracy(tweets,labels):\n",
    "        pred = [];ans=0\n",
    "        for i in range(len(tweets)):\n",
    "            x  = predict(str(tweets[i]),probability,split_fn=split_fn)\n",
    "            pred.append(x)\n",
    "            ans+=(x==labels[i])\n",
    "        return pred,ans/len(labels)\n",
    "    pred,acc = accuracy(domain_test['Tweet'],domain_test['Sentiment'])\n",
    "    print(acc)\n",
    "    # print(confusion_matrix(pred,domain_test['Sentiment'],labels=[\"Positive\",\"Negative\",\"Neutral\"]))\n",
    "    print('\\n')\n"
   ]
  },
  {
   "cell_type": "code",
   "execution_count": null,
   "metadata": {},
   "outputs": [],
   "source": [
    "import matplotlib.pyplot as plt\n",
    "import numpy as np\n",
    "\n",
    "C_values = [1e-5, 1e-3, 1, 5, 10]\n",
    "validation_accuracy = [40.166666666666664, 40.166666666666664, 55.91666666666667, 59.25, 60.83333333333333]\n",
    "k_fold_accuracy = [15.644257703081232, 16.64565826330532, 49.71, 58.58, 63.87]\n",
    "\n",
    "fig, ax = plt.subplots()\n",
    "\n",
    "ax.set_xscale('log')\n",
    "plt.plot(C_values, validation_accuracy, marker='o', label='Validation Accuracy')\n",
    "plt.plot(C_values, k_fold_accuracy, marker='s', label='5-fold Cross-Validation Accuracy')\n",
    "plt.xlabel('C Value (log scale)')\n",
    "plt.ylabel('Accuracy')\n",
    "plt.legend()\n",
    "plt.title('Accuracy vs. C Value (log scale)')\n",
    "plt.grid()\n",
    "plt.tight_layout()\n",
    "plt.show()\n"
   ]
  }
 ],
 "metadata": {
  "kernelspec": {
   "display_name": "Python 3",
   "language": "python",
   "name": "python3"
  },
  "language_info": {
   "codemirror_mode": {
    "name": "ipython",
    "version": 3
   },
   "file_extension": ".py",
   "mimetype": "text/x-python",
   "name": "python",
   "nbconvert_exporter": "python",
   "pygments_lexer": "ipython3",
   "version": "3.10.11"
  },
  "orig_nbformat": 4
 },
 "nbformat": 4,
 "nbformat_minor": 2
}
