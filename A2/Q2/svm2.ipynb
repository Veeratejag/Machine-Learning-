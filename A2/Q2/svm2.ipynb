{
 "cells": [
  {
   "cell_type": "code",
   "execution_count": null,
   "metadata": {},
   "outputs": [],
   "source": [
    "import numpy as np\n",
    "import cv2,sklearn\n",
    "import libsvm.svmutil as svm\n",
    "from libsvm.svmutil import svm_problem,svm_parameter,svm_train,svm_predict\n",
    "from sklearn.metrics import accuracy_score,confusion_matrix as cm\n",
    "from sklearn.model_selection import train_test_split\n",
    "import os,cvxopt\n",
    "from cvxopt import matrix, solvers\n",
    "from collections import Counter "
   ]
  },
  {
   "cell_type": "code",
   "execution_count": null,
   "metadata": {},
   "outputs": [],
   "source": [
    "def gaussian(X, gamma):\n",
    "    squared_distances = np.sum(X**2, axis=1).reshape(-1, 1) + np.sum(X**2, axis=1) - 2 * np.dot(X, X.T)\n",
    "    K = np.exp(-gamma * squared_distances)\n",
    "    return K\n",
    "def Kernel(X,gamma):\n",
    "    if gamma:\n",
    "        return gaussian(X, gamma)\n",
    "    else:\n",
    "        return np.dot(X, X.T)\n",
    "def find_P(X, Y, gamma):\n",
    "    K = Kernel(X, gamma)\n",
    "    P=np.outer(Y,Y)*K\n",
    "    return P"
   ]
  },
  {
   "cell_type": "code",
   "execution_count": null,
   "metadata": {},
   "outputs": [],
   "source": [
    "def kernel(x_i,x_j):\n",
    "    return np.exp(-0.001*(np.linalg.norm(x_i-x_j)**2))\n",
    "def wtx(alpha, Y, X, x_j):\n",
    "    return np.sum(alpha * Y * kernel(X, x_j))\n",
    "\n",
    "def predict(alpha,x_train,y_train,b,x_test):\n",
    "    y_pred=np.zeros(len(x_test))\n",
    "    for i in range(len(y_pred)):\n",
    "        y_pred[i]=wtx(alpha,y_train,x_train,x_test[i])+b\n",
    "    return np.sign(y_pred)"
   ]
  },
  {
   "cell_type": "code",
   "execution_count": null,
   "metadata": {},
   "outputs": [],
   "source": [
    "def gaussian_kernel(x1, x2, gamma):\n",
    "    return np.exp(-gamma * np.linalg.norm(x1 - x2, axis=1)**2)\n",
    "\n",
    "gamma = 0.001\n",
    "C = 1\n",
    "def predict2(alpha,b,x_train, y_train, x_test, gamma, C=1.0):\n",
    "    decision_function = np.sum(np.outer(alpha * y_train, gaussian_kernel(x_train, x_test, gamma)), axis=0) + b\n",
    "\n",
    "    return np.sign(decision_function)"
   ]
  },
  {
   "cell_type": "code",
   "execution_count": null,
   "metadata": {},
   "outputs": [],
   "source": [
    "kC2classes = [['1','2'],['1','3'],['1','4'],['1','5'],['1','6'],\n",
    "              ['2','3'],['2','4'],['2','5'],['2','6'],['3','4'],\n",
    "              ['3','5'],['3','6'],['4','5'],['4','6'],['5','6']]"
   ]
  },
  {
   "cell_type": "code",
   "execution_count": null,
   "metadata": {},
   "outputs": [],
   "source": [
    "x_test = []; y_test = []\n",
    "classes = ['0','1','2','3','4','5']\n",
    "dataset_path = 'svm/val/'\n",
    "for x in classes:\n",
    "    path = os.path.join(dataset_path, x)\n",
    "    for y in os.listdir(path):\n",
    "        image = cv2.imread(os.path.join(path, y))\n",
    "        # image = cv2.cvtColor(image, cv2.COLOR_BGR2GRAY)\n",
    "        image = cv2.resize(image, (16,16))\n",
    "        image = image.reshape(768)\n",
    "        image=image/255.0\n",
    "        x_test.append(image)\n",
    "        y_test.append(int(x)+1)\n",
    "x_test = np.array(x_test)\n",
    "y_test = np.array(y_test)"
   ]
  },
  {
   "cell_type": "code",
   "execution_count": null,
   "metadata": {},
   "outputs": [],
   "source": [
    "x_test.shape,y_test.shape"
   ]
  },
  {
   "cell_type": "code",
   "execution_count": null,
   "metadata": {},
   "outputs": [],
   "source": [
    "import random\n",
    "x = [random.randint(1, 6) for p in range(0, 1200)]\n",
    "accuracy_score(y_test, x)"
   ]
  },
  {
   "cell_type": "code",
   "execution_count": null,
   "metadata": {},
   "outputs": [],
   "source": [
    "def predict_kC2(alphas, x_train, y_train, x_test, y_test):\n",
    "    num_classes = 6\n",
    "    y_pred = np.zeros((len(x_test), num_classes), dtype=int)\n",
    "    gamma = 0.001\n",
    "    \n",
    "    for i, y in enumerate(alphas):\n",
    "        alpha,b = y\n",
    "        indices =np.where((alpha > 1e-5) & (alpha < C ))[0]\n",
    "        for j in range(len(x_test)):\n",
    "            pred = np.sign(np.sum(alpha * y_train*gaussian_kernel(x_train, x_test[j], gamma)) + b)\n",
    "            if pred > 0:\n",
    "                y_pred[j, int(kC2classes[i][1]) - 1] += 1  \n",
    "            else:\n",
    "                y_pred[j, int(kC2classes[i][0]) - 1] += 1\n",
    "    \n",
    "    y_pred = np.argmax(y_pred, axis=1) + 1\n",
    "    print(\"Predicted labels:\", y_pred)\n",
    "    \n",
    "    accuracy = accuracy_score(y_test, y_pred)\n",
    "    print(\"Accuracy:\", accuracy)\n",
    "    \n",
    "    return y_pred\n"
   ]
  },
  {
   "cell_type": "code",
   "execution_count": null,
   "metadata": {},
   "outputs": [],
   "source": [
    "classes = ['0','1','2','3','4','5']\n",
    "datas = [];labelss = []\n",
    "dataset_path = 'svm/train/'\n",
    "for x in classes:\n",
    "    data=[];labels=[]\n",
    "    path = os.path.join(dataset_path, x)\n",
    "    for y in os.listdir(path):\n",
    "        image = cv2.imread(os.path.join(path, y))\n",
    "        image = cv2.resize(image, (16,16))\n",
    "        image = image.reshape(768)\n",
    "        image=image/255.0\n",
    "        data.append(image)\n",
    "        labels.append(int(x)+1)\n",
    "    datas.append(data)\n",
    "    labelss.append(labels)"
   ]
  },
  {
   "cell_type": "code",
   "execution_count": null,
   "metadata": {},
   "outputs": [],
   "source": [
    "Abs = []\n",
    "m=len(datas[0])*2\n",
    "q = -np.ones((m, 1))\n",
    "q = matrix(q)\n",
    "B = matrix(0.0, tc='d')\n",
    "G = np.vstack((-np.eye(m), np.eye(m)))\n",
    "G = matrix(G)\n",
    "gamma = 0.001\n",
    "C=1.0\n",
    "h = np.zeros((2 * m, 1))\n",
    "h[m:, :] = C   \n",
    "h = matrix(h)\n",
    "from time import time\n",
    "\n",
    "for X in kC2classes:\n",
    "    start = time()\n",
    "    data = datas[int(X[0])-1]+datas[int(X[1])-1]\n",
    "    labels = [-1]*len(datas[int(X[0])-1])+[1]*len(datas[int(X[1])-1])\n",
    "    \n",
    "    x_train = np.array(data)\n",
    "    y_train = np.array(labels)\n",
    "    m = x_train.shape[0]\n",
    "    P = find_P(x_train,y_train, 0.001)\n",
    "    P = matrix(P)\n",
    "    A = matrix(y_train.reshape(1, -1), tc='d')\n",
    "\n",
    "    sol = solvers.qp(P, q,G, h, A, B,options={'show_progress': False}) \n",
    "    alpha = np.reshape(np.array(sol['x']), (x_train.shape[0],1))\n",
    "    b = 0.0\n",
    "    indices = np.where((alpha > 1e-5) & (alpha < C ))[0]\n",
    "    for i in indices:\n",
    "        b += labels[i] - wtx(alpha,y_train,x_train,x_train[i],indices)\n",
    "    b/=len(indices)\n",
    "    Abs.append([alpha,b])\n",
    "    print(\"done\",X,len(Abs),time()-start)\n",
    "\n",
    "# pred = predict(Abs,x_train,y_train,x_test,y_test)    "
   ]
  },
  {
   "cell_type": "code",
   "execution_count": null,
   "metadata": {},
   "outputs": [],
   "source": [
    "x_train = []; y_train = []\n",
    "for i in range(6):\n",
    "    x_train.extend(datas[i])\n",
    "    y_train.extend(labelss[i])\n",
    "x_train = np.array(x_train)\n",
    "y_train = np.array(y_train)\n",
    "# pred=predict(Wbs,x_train,y_train)\n",
    "# cm(y_train,pred)"
   ]
  },
  {
   "cell_type": "code",
   "execution_count": null,
   "metadata": {},
   "outputs": [],
   "source": [
    "pred  =predict_kC2(Abs, x_train, y_train, x_test, y_test)"
   ]
  },
  {
   "cell_type": "code",
   "execution_count": null,
   "metadata": {},
   "outputs": [],
   "source": [
    "Counter(pred)"
   ]
  },
  {
   "cell_type": "code",
   "execution_count": null,
   "metadata": {},
   "outputs": [],
   "source": [
    "# pred_t=predict(Wbs,x_test,y_test)    \n",
    "cm(y_train,pred)"
   ]
  },
  {
   "cell_type": "code",
   "execution_count": null,
   "metadata": {},
   "outputs": [],
   "source": []
  },
  {
   "cell_type": "code",
   "execution_count": null,
   "metadata": {},
   "outputs": [],
   "source": [
    "from libsvm.svmutil import svm_problem,svm_parameter,svm_train,svm_predict\n",
    "m = svm_train(y_train,x_train,'-c 10 -q -g 0.001')"
   ]
  },
  {
   "cell_type": "code",
   "execution_count": null,
   "metadata": {},
   "outputs": [],
   "source": [
    "train = svm_predict(y_train,x_train,m)"
   ]
  },
  {
   "cell_type": "code",
   "execution_count": null,
   "metadata": {},
   "outputs": [],
   "source": [
    "test = svm_predict(y_test,x_test,m)"
   ]
  },
  {
   "cell_type": "code",
   "execution_count": null,
   "metadata": {},
   "outputs": [],
   "source": [
    "mis_class = []\n",
    "i=0\n",
    "while (i<len(test[0])) and len(mis_class)<12:\n",
    "    if test[0][i] != y_test[i]:\n",
    "        mis_class.append(i)\n",
    "    i+=1\n",
    "mis_class"
   ]
  },
  {
   "cell_type": "code",
   "execution_count": null,
   "metadata": {},
   "outputs": [],
   "source": [
    "for i in range(12):\n",
    "    mis_class[i] = ( mis_class[i],x_test[mis_class[i]])\n",
    "# mis_class = np.array(mis_class)\n",
    "mis_class"
   ]
  },
  {
   "cell_type": "code",
   "execution_count": null,
   "metadata": {},
   "outputs": [],
   "source": [
    "import matplotlib.pyplot as plt\n",
    "plt.figure(figsize=(10, 6))\n",
    "for i in range(12):\n",
    "    plt.subplot(3, 4, i + 1)\n",
    "    plt.imshow(mis_class[i][1].reshape(16, 16, 3))\n",
    "    plt.title(\"Predicted: {}, but {}\".format(int(test[0][i]), y_test[i]))\n",
    "    plt.axis('off')\n",
    "plt.tight_layout()\n",
    "plt.show()"
   ]
  },
  {
   "cell_type": "code",
   "execution_count": null,
   "metadata": {},
   "outputs": [],
   "source": [
    "cm(y_test,test[0])"
   ]
  },
  {
   "cell_type": "code",
   "execution_count": null,
   "metadata": {},
   "outputs": [],
   "source": [
    "cm(train[0],y_train)"
   ]
  },
  {
   "cell_type": "code",
   "execution_count": null,
   "metadata": {},
   "outputs": [],
   "source": [
    "x_test.shape,y_test.shape"
   ]
  },
  {
   "cell_type": "code",
   "execution_count": null,
   "metadata": {},
   "outputs": [],
   "source": [
    "test = (svm_predict(y_test,x_test,m)[0])"
   ]
  },
  {
   "cell_type": "code",
   "execution_count": null,
   "metadata": {},
   "outputs": [],
   "source": [
    "cm(test,y_test)"
   ]
  },
  {
   "cell_type": "code",
   "execution_count": null,
   "metadata": {},
   "outputs": [],
   "source": [
    "from sklearn import svm\n",
    "from sklearn.metrics import accuracy_score\n",
    "\n",
    "clf = svm.SVC(kernel='rbf', gamma=0.001, C=1.0)\n",
    "\n",
    "clf.fit(x_train, y_train)\n",
    "y_pred = clf.predict(x_test)\n",
    "print(y_pred)\n",
    "accuracy = accuracy_score(y_test, y_pred)\n",
    "print(\"Validation Set Accuracy:\", accuracy)\n"
   ]
  },
  {
   "cell_type": "code",
   "execution_count": null,
   "metadata": {},
   "outputs": [],
   "source": [
    "from collections import Counter\n",
    "from sklearn.metrics import confusion_matrix\n",
    "print(Counter(y_pred),Counter(y_test))\n",
    "confusion_matrix(y_test,y_pred)"
   ]
  },
  {
   "cell_type": "code",
   "execution_count": null,
   "metadata": {},
   "outputs": [],
   "source": [
    "from libsvm.svmutil import svm_problem,svm_parameter,svm_train,svm_predict\n",
    "def svm_libsvm(X_train,Y_train,gamma=0.001,C=1.0):\n",
    "    param = \"-t 2 -c {} -q \".format(C)\n",
    "    if gamma:\n",
    "        param += f\"-g {gamma}\"\n",
    "    model = svm_train(Y_train ,X_train, param)\n",
    "    return model\n",
    "\n",
    "\n",
    "def accuracy_util_libsvm(X_train: np.ndarray, Y_train: np.ndarray, X_test: np.ndarray, Y_test: np.ndarray, model):\n",
    "    train_accuracy = svm_predict(Y_train, X_train, model, '-q')[1][0]\n",
    "    test_accuracy = svm_predict(Y_test, X_test, model, '-q')[1][0]\n",
    "    return train_accuracy, test_accuracy\n",
    "\n"
   ]
  },
  {
   "cell_type": "code",
   "execution_count": null,
   "metadata": {},
   "outputs": [],
   "source": [
    "model= svm_libsvm(x_train, y_train)"
   ]
  },
  {
   "cell_type": "code",
   "execution_count": null,
   "metadata": {},
   "outputs": [],
   "source": [
    "accuracy_util_libsvm(x_train, y_train, x_test, y_test, model)"
   ]
  },
  {
   "cell_type": "code",
   "execution_count": null,
   "metadata": {},
   "outputs": [],
   "source": [
    "g  = 0.001\n",
    "for c in {1e-5,1e-3,1,5,10}:\n",
    "    print(\"C = {}\".format(c))\n",
    "    model = svm_libsvm(x_train, y_train, C=c)\n",
    "    print(\"model done\")\n",
    "    train_accuracy, test_accuracy = accuracy_util_libsvm(x_train, y_train, x_test, y_test, model)\n",
    "    print(\"C = {}, Train Accuracy = {}, Test Accuracy = {}\".format(C, train_accuracy, test_accuracy))"
   ]
  },
  {
   "cell_type": "code",
   "execution_count": null,
   "metadata": {},
   "outputs": [],
   "source": []
  },
  {
   "cell_type": "code",
   "execution_count": null,
   "metadata": {},
   "outputs": [],
   "source": [
    "def k_fold(X,Y,c,k=5):\n",
    "    m = X.shape[0]\n",
    "    m //= k\n",
    "    X_test, X_train = np.split(X, [m])\n",
    "    Y_test, Y_train = np.split(Y, [m])\n",
    "    accuracy = 0\n",
    "    for i in range(k):\n",
    "        clf = svm.SVC(kernel='rbf', gamma=0.001, C=c)\n",
    "        clf.fit(X_train,Y_train)\n",
    "        pred = clf.predict(X_test)\n",
    "        accuracy += np.mean(pred == Y_test)\n",
    "        if i < k - 1:\n",
    "            X_train[i * m:(i + 1) * m], X_test = X_test, X_train[i * m:(i + 1) * m].copy()\n",
    "            Y_train[i * m:(i + 1) * m], Y_test = Y_test, Y_train[i * m:(i + 1) * m].copy()\n",
    "    return accuracy / k"
   ]
  },
  {
   "cell_type": "code",
   "execution_count": null,
   "metadata": {},
   "outputs": [],
   "source": [
    "indices = np.arange(len(x_train))\n",
    "np.random.shuffle(indices)\n",
    "x_train = x_train[indices]\n",
    "y_train = y_train[indices]"
   ]
  },
  {
   "cell_type": "code",
   "execution_count": null,
   "metadata": {},
   "outputs": [],
   "source": [
    "k_fold(x_train,y_train,1)"
   ]
  },
  {
   "cell_type": "code",
   "execution_count": null,
   "metadata": {},
   "outputs": [],
   "source": [
    "for c in [1e-5,1e-3,1,5,10]:\n",
    "    print(k_fold(x_train,y_train,c))\n",
    "    print('\\n')\n"
   ]
  }
 ],
 "metadata": {
  "kernelspec": {
   "display_name": "Python 3",
   "language": "python",
   "name": "python3"
  },
  "language_info": {
   "codemirror_mode": {
    "name": "ipython",
    "version": 3
   },
   "file_extension": ".py",
   "mimetype": "text/x-python",
   "name": "python",
   "nbconvert_exporter": "python",
   "pygments_lexer": "ipython3",
   "version": "3.10.11"
  },
  "orig_nbformat": 4
 },
 "nbformat": 4,
 "nbformat_minor": 2
}
