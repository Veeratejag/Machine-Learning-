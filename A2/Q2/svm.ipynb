{
 "cells": [
  {
   "cell_type": "code",
   "execution_count": null,
   "metadata": {},
   "outputs": [],
   "source": [
    "import numpy as np\n",
    "import cv2\n",
    "from sklearn import svm\n",
    "from sklearn.metrics import accuracy_score\n",
    "from sklearn.model_selection import train_test_split\n",
    "import os,cvxopt\n",
    "from cvxopt import matrix, solvers"
   ]
  },
  {
   "cell_type": "code",
   "execution_count": null,
   "metadata": {},
   "outputs": [],
   "source": [
    "data = []\n",
    "labels = []\n",
    "\n",
    "classes = ['1','2']\n",
    "\n",
    "dataset_path = 'svm/train/'\n",
    "for x in classes:\n",
    "    path = os.path.join(dataset_path, x)\n",
    "    for y in os.listdir(path):\n",
    "        image = cv2.imread(os.path.join(path, y))\n",
    "        # image = cv2.cvtColor(image, cv2.COLOR_BGR2GRAY)\n",
    "        image = cv2.resize(image, (16,16))\n",
    "        image = image.reshape(768)\n",
    "        image=image/255.0\n",
    "        data.append(image)\n",
    "        labels.append(float(2*int(x)-3))\n",
    "x_train = np.array(data)\n",
    "y_train = np.array(labels)"
   ]
  },
  {
   "cell_type": "code",
   "execution_count": null,
   "metadata": {},
   "outputs": [],
   "source": [
    "test_data = []\n",
    "test_labels=[]\n",
    "\n",
    "classes = ['1','2']\n",
    "\n",
    "dataset_path = 'svm/val/'\n",
    "for x in classes:\n",
    "    path = os.path.join(dataset_path, x)\n",
    "    for y in os.listdir(path):\n",
    "        image = cv2.imread(os.path.join(path, y))\n",
    "        # image = cv2.cvtColor(image, cv2.COLOR_BGR2GRAY)\n",
    "        image = cv2.resize(image, (16,16))\n",
    "        image = image.reshape(768)\n",
    "        image=image/255.0\n",
    "        test_data.append(image)\n",
    "        test_labels.append(float(2*int(x)-3))\n",
    "x_test = np.array(test_data)\n",
    "y_test = np.array(test_labels)"
   ]
  },
  {
   "cell_type": "code",
   "execution_count": null,
   "metadata": {},
   "outputs": [],
   "source": [
    "def gaussian(X, gamma):\n",
    "    squared_distances = np.sum(X**2, axis=1).reshape(-1, 1) + np.sum(X**2, axis=1) - 2 * np.dot(X, X.T)\n",
    "    K = np.exp(-gamma * squared_distances)\n",
    "    return K\n",
    "def Kernel(X,gamma):\n",
    "    if gamma:\n",
    "        return gaussian(X, gamma)\n",
    "    else:\n",
    "        return np.dot(X, X.T)\n",
    "\n",
    "def find_P(X, Y, gamma):\n",
    "    K = Kernel(X, gamma)\n",
    "    P=np.outer(Y,Y)*K\n",
    "    return P\n",
    "    "
   ]
  },
  {
   "cell_type": "code",
   "execution_count": null,
   "metadata": {},
   "outputs": [],
   "source": [
    "m = x_train.shape[0]\n",
    "P = find_P(x_train,y_train, 0.001)\n",
    "P = matrix(P)\n",
    "\n",
    "q = -np.ones((m, 1))\n",
    "q = matrix(q)\n",
    "\n",
    "P,q"
   ]
  },
  {
   "cell_type": "code",
   "execution_count": null,
   "metadata": {},
   "outputs": [],
   "source": [
    "\n",
    "A = matrix(y_train.reshape(1, -1), tc='d')\n",
    "\n",
    "B = matrix(0.0, tc='d')\n",
    "\n",
    "A,B"
   ]
  },
  {
   "cell_type": "code",
   "execution_count": null,
   "metadata": {},
   "outputs": [],
   "source": [
    "# h1=np.zeros((data.shape[0],1))\n",
    "\n",
    "G = np.vstack((-np.eye(m), np.eye(m)))\n",
    "G = matrix(G)\n",
    "\n",
    "C=1.0\n",
    "h = np.zeros((2 * m, 1))\n",
    "h[m:, :] = C   \n",
    "h = matrix(h)\n",
    "\n",
    "G,h"
   ]
  },
  {
   "cell_type": "code",
   "execution_count": null,
   "metadata": {},
   "outputs": [],
   "source": [
    "\n",
    "sol = solvers.qp(P, q,G, h, A, B,options={'show_progress': False}) "
   ]
  },
  {
   "cell_type": "code",
   "execution_count": null,
   "metadata": {},
   "outputs": [],
   "source": [
    "print(len(sol['x']))\n",
    "sol['primal objective']"
   ]
  },
  {
   "cell_type": "code",
   "execution_count": null,
   "metadata": {},
   "outputs": [],
   "source": [
    "alpha = np.reshape(np.array(sol['x']), (x_train.shape[0],1))\n",
    "indices = [i for i in range(alpha.shape[0]) if alpha[i] > 1e-5]\n",
    "# alpha = alpha[indices]\n",
    "len(alpha)"
   ]
  },
  {
   "cell_type": "code",
   "execution_count": null,
   "metadata": {},
   "outputs": [],
   "source": [
    "def find_b(alpha,X,Y):\n",
    "    n = len(X)\n",
    "    b=np.sum(Y)\n",
    "    for i in range(n):\n",
    "        b+=np.sum(alpha*Y*np.exp(-0.001*(np.linalg.norm(X[i]-X)**2)))\n",
    "    return b/len(alpha)\n",
    "b  = find_b(alpha,x_train[indices],y_train[indices])\n",
    "b"
   ]
  },
  {
   "cell_type": "code",
   "execution_count": null,
   "metadata": {},
   "outputs": [],
   "source": [
    "def no_of_sv(alpha,C):\n",
    "    SVs = np.where((alpha > 1e-5) & (alpha < C))[0]\n",
    "    return len(SVs), SVs\n",
    "# no_of_sv(alpha,1.0)"
   ]
  },
  {
   "cell_type": "code",
   "execution_count": null,
   "metadata": {},
   "outputs": [],
   "source": [
    "# alpha.shape, data.shape, labels.shape\n",
    "svi = np.where((alpha > 1e-5) & (alpha < C ))[0]\n",
    "W = sum(alpha[i]*labels[i]*data[i] for i in svi)\n",
    "W = np.array(W).reshape((x_train.shape[1],1))\n",
    "W.shape"
   ]
  },
  {
   "cell_type": "code",
   "execution_count": null,
   "metadata": {},
   "outputs": [],
   "source": [
    "import matplotlib.pyplot as plt\n",
    "svi = np.where((alpha > 1e-5) & (alpha < C))[0]\n",
    "top_svi = svi[np.argsort(np.abs(alpha[svi]))[-6:][::-1]]\n",
    "\n",
    "plt.figure(figsize=(10, 6))\n",
    "\n",
    "for i, idx in enumerate(top_svi):\n",
    "    support_vector = data[idx]\n",
    "\n",
    "    support_vector_image = support_vector.reshape((16, 16, 3))\n",
    "\n",
    "    plt.subplot(2, 3, i + 1)  \n",
    "    plt.imshow(support_vector_image)\n",
    "    plt.title(f\"Support Vector {i+1}\")\n",
    "\n",
    "plt.tight_layout()\n",
    "plt.show()\n"
   ]
  },
  {
   "cell_type": "code",
   "execution_count": null,
   "metadata": {},
   "outputs": [],
   "source": [
    "b = 0.0\n",
    "svi = np.where((alpha > 1e-5) & (alpha < C ))[0]\n",
    "for idx in svi:\n",
    "    b += labels[idx] - np.dot(W.T, data[idx])\n",
    "\n",
    "b /= len(svi)\n",
    "b"
   ]
  },
  {
   "cell_type": "code",
   "execution_count": null,
   "metadata": {},
   "outputs": [],
   "source": [
    "test_data = []\n",
    "test_labels=[]\n",
    "\n",
    "classes = ['1','2']\n",
    "\n",
    "dataset_path = 'svm/val/'\n",
    "for x in classes:\n",
    "    path = os.path.join(dataset_path, x)\n",
    "    for y in os.listdir(path):\n",
    "        image = cv2.imread(os.path.join(path, y))\n",
    "        # image = cv2.cvtColor(image, cv2.COLOR_BGR2GRAY)\n",
    "        image = cv2.resize(image, (16,16))\n",
    "        image = image.reshape(768)\n",
    "        image=image/255.0\n",
    "        test_data.append(image)\n",
    "        test_labels.append(float(2*int(x)-3))\n",
    "test_data = np.array(test_data)\n",
    "test_labels = np.array(test_labels)"
   ]
  },
  {
   "cell_type": "code",
   "execution_count": null,
   "metadata": {},
   "outputs": [],
   "source": [
    "def predict(W,b,x_test,y_test):\n",
    "    y_pred=[]\n",
    "    for i in range(len(x_test)):\n",
    "        y_pred.append(np.sign(np.dot(W.T,x_test[i])+b))\n",
    "    # y_pred = [(y+3)//2 for y in y_pred]\n",
    "    y_pred=np.array(y_pred)\n",
    "    y_pred=y_pred.reshape(y_test.shape)\n",
    "    print(\"accuracy: \",accuracy_score(y_test,y_pred))\n",
    "    return y_pred\n",
    "predict(W,b,x_train,y_train)"
   ]
  },
  {
   "cell_type": "code",
   "execution_count": null,
   "metadata": {},
   "outputs": [],
   "source": [
    "predict(W,b,x_test,y_test)"
   ]
  },
  {
   "cell_type": "code",
   "execution_count": null,
   "metadata": {},
   "outputs": [],
   "source": [
    "# import libsvm\n",
    "# from libsvm import svmutil\n",
    "from libsvm.svmutil import svm_problem,svm_parameter,svm_train,svm_predict\n"
   ]
  },
  {
   "cell_type": "code",
   "execution_count": null,
   "metadata": {},
   "outputs": [],
   "source": [
    "def sv_libsvm(x_train,y_train,kernel,gamma):\n",
    "    prob = svm_problem(y_train,x_train)\n",
    "    param = svm_parameter('-t {} -c 1'.format(kernel))\n",
    "    if gamma:\n",
    "        param = svm_parameter('-t {} -c 1 -g {}'.format(kernel,gamma))\n",
    "    model = svm_train(prob,param)\n",
    "    return model\n",
    "def accuracy_libsvm(model,x_train,y_train,x_test,y_test):\n",
    "    p_label,p_acc_train,p_val = svm_predict(y_train,x_train,model)\n",
    "    print(\"Training Accuracy: \",p_acc_train[0])\n",
    "    p_label,p_acc_validation,p_val = svm_predict(y_test,x_test,model)\n",
    "    print(\"Validation Accuracy: \",p_acc_validation[0])\n",
    "    return p_acc_train,p_acc_validation[0]"
   ]
  },
  {
   "cell_type": "code",
   "execution_count": null,
   "metadata": {},
   "outputs": [],
   "source": [
    "indices, alpha, model, b = sv_libsvm(x_train,x_test,y_train,y_test,0.0)"
   ]
  },
  {
   "cell_type": "code",
   "execution_count": null,
   "metadata": {},
   "outputs": [],
   "source": [
    "accuracy_libsvm(data,list(labels),test_data,list(test_labels),model)"
   ]
  },
  {
   "cell_type": "code",
   "execution_count": null,
   "metadata": {},
   "outputs": [],
   "source": [
    "w = sum(alpha[i]*labels[i]*data[i] for i in range(len(alpha)))\n",
    "w = np.array(w).reshape((data.shape[1],1))\n",
    "\n",
    "w"
   ]
  },
  {
   "cell_type": "code",
   "execution_count": null,
   "metadata": {},
   "outputs": [],
   "source": [
    "data_ex = []\n",
    "labels_ex = []\n",
    "\n",
    "classes = ['1','2']\n",
    "\n",
    "dataset_path = 'svm/train/'\n",
    "for x in classes:\n",
    "    path = os.path.join(dataset_path, x)\n",
    "    for y in os.listdir(path):\n",
    "        image = cv2.imread(os.path.join(path, y))\n",
    "        # image = cv2.cvtColor(image, cv2.COLOR_BGR2GRAY)\n",
    "        image = cv2.resize(image, (32,32))\n",
    "        image = image.reshape(3072)\n",
    "        image=image/255.0\n",
    "        data_ex.append(image)\n",
    "        labels_ex.append(float(2*int(x)-3))\n",
    "data_ex = np.array(data_ex)\n",
    "labels_ex = np.array(labels_ex)"
   ]
  },
  {
   "cell_type": "code",
   "execution_count": null,
   "metadata": {},
   "outputs": [],
   "source": [
    "test_data_ex = []\n",
    "test_labels_ex = []\n",
    "\n",
    "classes = ['1','2']\n",
    "\n",
    "dataset_path = 'svm/train/'\n",
    "for x in classes:\n",
    "    path = os.path.join(dataset_path, x)\n",
    "    for y in os.listdir(path):\n",
    "        image = cv2.imread(os.path.join(path, y))\n",
    "        # image = cv2.cvtColor(image, cv2.COLOR_BGR2GRAY)\n",
    "        image = cv2.resize(image, (32,32))\n",
    "        image = image.reshape(3072)\n",
    "        image=image/255.0\n",
    "        test_data_ex.append(image)\n",
    "        test_labels_ex.append(float(2*int(x)-3))\n",
    "test_data_ex = np.array(test_data_ex)\n",
    "test_labels_ex = np.array(test_labels_ex)"
   ]
  },
  {
   "cell_type": "code",
   "execution_count": null,
   "metadata": {},
   "outputs": [],
   "source": [
    "indices, alpha, model, b = sv_libsvm(data_ex,test_data_ex,labels_ex,test_labels_ex,0.001)"
   ]
  },
  {
   "cell_type": "code",
   "execution_count": null,
   "metadata": {},
   "outputs": [],
   "source": [
    "from collections import Counter\n",
    "Counter(svm_predict(y_train, x_train, model, '-q')[0])"
   ]
  },
  {
   "cell_type": "code",
   "execution_count": null,
   "metadata": {},
   "outputs": [],
   "source": [
    "accuracy_libsvm(data_ex,list(labels_ex),test_data_ex,list(test_labels_ex),model)"
   ]
  },
  {
   "cell_type": "code",
   "execution_count": null,
   "metadata": {},
   "outputs": [],
   "source": [
    "kC2classes = [['1','2'],['1','3'],['1','4'],['1','5'],['1','6'],\n",
    "              ['2','3'],['2','4'],['2','5'],['2','6'],['3','4'],\n",
    "              ['3','5'],['3','6'],['4','5'],['4','6'],['5','6']]\n"
   ]
  },
  {
   "cell_type": "code",
   "execution_count": null,
   "metadata": {},
   "outputs": [],
   "source": [
    "for x in kC2classes:\n",
    "    data = []\n",
    "    labels = []\n",
    "\n",
    "    classes = x\n",
    "\n",
    "    dataset_path = 'svm/train/'\n",
    "    for x in classes:\n",
    "        path = os.path.join(dataset_path, x)\n",
    "        for y in os.listdir(path):\n",
    "            image = cv2.imread(os.path.join(path, y))\n",
    "            # image = cv2.cvtColor(image, cv2.COLOR_BGR2GRAY)\n",
    "            image = cv2.resize(image, (16,16))\n",
    "            image = image.reshape(768)\n",
    "            image=image/255.0\n",
    "            data.append(image)\n",
    "            labels.append(float(2*int(x)-3))\n",
    "    data = np.array(data)\n",
    "    labels = np.array(labels)\n",
    "    m = data.shape[0]\n",
    "    P = find_P(data,labels, 0)\n",
    "    P = matrix(P)\n",
    "\n",
    "    q = -np.ones((m, 1))\n",
    "    q = matrix(q)"
   ]
  },
  {
   "cell_type": "code",
   "execution_count": null,
   "metadata": {},
   "outputs": [],
   "source": []
  },
  {
   "cell_type": "code",
   "execution_count": null,
   "metadata": {},
   "outputs": [],
   "source": [
    "def kernel(x_i,x_j):\n",
    "    return np.exp(-0.001*(np.linalg.norm(x_i-x_j)**2))\n",
    "def wtx(alpha,Y,X,x_j,indices):\n",
    "    return sum(alpha[i]*Y[i]*kernel(X[i],x_j) for i in indices)\n"
   ]
  },
  {
   "cell_type": "code",
   "execution_count": null,
   "metadata": {},
   "outputs": [],
   "source": [
    "b = 0.0\n",
    "svi = np.where((alpha > 1e-5) & (alpha < C ))[0]\n",
    "for i in svi:\n",
    "    b += labels[i] - wtx(alpha,y_train,x_train,x_train[i],svi)\n",
    "b/=len(svi)"
   ]
  },
  {
   "cell_type": "code",
   "execution_count": null,
   "metadata": {},
   "outputs": [],
   "source": [
    "b"
   ]
  },
  {
   "cell_type": "code",
   "execution_count": null,
   "metadata": {},
   "outputs": [],
   "source": [
    "def predict(alpha,x_train,y_train,b,x_test,y_test):\n",
    "    y_pred=[]\n",
    "    for i in range(len(x_test)):\n",
    "        y_pred.append((wtx(alpha,y_train,x_train,x_test[i],indices)+b))\n",
    "    # print(y_pred)\n",
    "    return np.sign(y_pred)"
   ]
  },
  {
   "cell_type": "code",
   "execution_count": null,
   "metadata": {},
   "outputs": [],
   "source": [
    "y_pred= predict(alpha,x_train,y_train,b,x_test,y_test)\n",
    "print(len(y_pred))"
   ]
  },
  {
   "cell_type": "code",
   "execution_count": null,
   "metadata": {},
   "outputs": [],
   "source": [
    "accuracy_score(y_test,y_pred)"
   ]
  },
  {
   "cell_type": "code",
   "execution_count": null,
   "metadata": {},
   "outputs": [],
   "source": [
    "def gauss_kernel(X1, X2, gamma):\n",
    "    prod1 = np.reshape(np.einsum('ij,ij->i', X1, X1), (X1.shape[0], 1))\n",
    "    prod2 = np.reshape(np.einsum('ij,ij->i', X2, X2), (X2.shape[0], 1))\n",
    "    prod = prod1 + prod2.T - 2 * np.matmul(X1, X2.T)\n",
    "    return np.exp(-gamma * prod)\n"
   ]
  }
 ],
 "metadata": {
  "kernelspec": {
   "display_name": "Python 3",
   "language": "python",
   "name": "python3"
  },
  "language_info": {
   "codemirror_mode": {
    "name": "ipython",
    "version": 3
   },
   "file_extension": ".py",
   "mimetype": "text/x-python",
   "name": "python",
   "nbconvert_exporter": "python",
   "pygments_lexer": "ipython3",
   "version": "3.10.11"
  },
  "orig_nbformat": 4
 },
 "nbformat": 4,
 "nbformat_minor": 2
}
